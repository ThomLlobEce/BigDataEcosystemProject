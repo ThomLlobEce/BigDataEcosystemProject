{
 "cells": [
  {
   "cell_type": "code",
   "execution_count": null,
   "metadata": {},
   "outputs": [],
   "source": [
    "from pyspark.sql import SparkSession\n",
    "from pyspark.sql.functions import ceil\n",
    "from pyspark import SparkFiles\n",
    "\n",
    "spark = SparkSession \\\n",
    "    .builder \\\n",
    "    .appName(\"Python Spark SQL basic example\") \\\n",
    "    .getOrCreate()\n",
    "\n",
    "spark.sparkContext.addFile(\"https://covid.ourworldindata.org/data/owid-covid-data.csv\")"
   ]
  },
  {
   "cell_type": "code",
   "execution_count": null,
   "metadata": {},
   "outputs": [],
   "source": [
    "date = \"2020-12-27\""
   ]
  },
  {
   "cell_type": "code",
   "execution_count": null,
   "metadata": {},
   "outputs": [],
   "source": [
    "df = spark.read.csv(SparkFiles.get(\"owid-covid-data.csv\"), header=True, inferSchema= True)"
   ]
  },
  {
   "cell_type": "code",
   "execution_count": null,
   "metadata": {},
   "outputs": [],
   "source": [
    "today_df = df.filter(df['date'] == date)\n",
    "today_df.toPandas()"
   ]
  },
  {
   "cell_type": "code",
   "execution_count": null,
   "metadata": {},
   "outputs": [],
   "source": [
    "# A faire : Lancé ce programme avec Airflow, tous les jours à 23h59 avec les paramètres day, month & year adequats\n",
    "# Le programme récupère la data depuis open data pour le jour actuel et effectue le pré-processing nécessaire\n",
    "# /!\\ A faire : Poster via l'API ELK le dataset today_df de façon à pouvoir l'indexé là-bas\n",
    "# A faire : Faire un dashboard de reporting sur Kibana de la situation du jour\n",
    "\n",
    "# Potentiel : Rajouter des pre processing sur à Spark\n",
    "\n",
    "# (OpenData => Dockerised Spark => ELK) scheduler par Airflow"
   ]
  }
 ],
 "metadata": {
  "kernelspec": {
   "display_name": "Python 3",
   "language": "python",
   "name": "python3"
  },
  "language_info": {
   "codemirror_mode": {
    "name": "ipython",
    "version": 3
   },
   "file_extension": ".py",
   "mimetype": "text/x-python",
   "name": "python",
   "nbconvert_exporter": "python",
   "pygments_lexer": "ipython3",
   "version": "3.8.6"
  }
 },
 "nbformat": 4,
 "nbformat_minor": 4
}
