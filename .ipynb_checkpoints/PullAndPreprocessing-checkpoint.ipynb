{
 "cells": [
  {
   "cell_type": "code",
   "execution_count": 1,
   "metadata": {},
   "outputs": [],
   "source": [
    "from pyspark.sql import SparkSession\n",
    "from pyspark.sql.functions import ceil\n",
    "from pyspark import SparkFiles\n",
    "\n",
    "spark = SparkSession \\\n",
    "    .builder \\\n",
    "    .appName(\"Python Spark SQL basic example\") \\\n",
    "    .getOrCreate()\n",
    "\n",
    "spark.sparkContext.addFile(\"https://opendata.ecdc.europa.eu/covid19/casedistribution/csv\")"
   ]
  },
  {
   "cell_type": "code",
   "execution_count": 2,
   "metadata": {},
   "outputs": [],
   "source": [
    "day = 10\n",
    "month = 12\n",
    "year = 2020"
   ]
  },
  {
   "cell_type": "code",
   "execution_count": 3,
   "metadata": {},
   "outputs": [],
   "source": [
    "df = spark.read.csv(\"file://\"+SparkFiles.get(\"csv\"), header=True, inferSchema= True)"
   ]
  },
  {
   "cell_type": "code",
   "execution_count": 4,
   "metadata": {},
   "outputs": [
    {
     "name": "stdout",
     "output_type": "stream",
     "text": [
      "+----------+---+-----+----+-----+------+-----------------------+-----+--------------------+-----------+------------+----------------------------------------------------------+\n",
      "|   dateRep|day|month|year|cases|deaths|countriesAndTerritories|geoId|countryterritoryCode|popData2019|continentExp|Cumulative_number_for_14_days_of_COVID-19_cases_per_100000|\n",
      "+----------+---+-----+----+-----+------+-----------------------+-----+--------------------+-----------+------------+----------------------------------------------------------+\n",
      "|09/12/2020|  9|   12|2020|  135|    13|            Afghanistan|   AF|                 AFG|   38041757|        Asia|                                                6.96340077|\n",
      "|09/12/2020|  9|   12|2020|  753|    14|                Albania|   AL|                 ALB|    2862427|      Europe|                                              354.10510032|\n",
      "|09/12/2020|  9|   12|2020|  591|    12|                Algeria|   DZ|                 DZA|   43053054|      Africa|                                               28.83883685|\n",
      "|09/12/2020|  9|   12|2020|   43|     0|                Andorra|   AD|                 AND|      76177|      Europe|                                             1018.68017906|\n",
      "|09/12/2020|  9|   12|2020|   81|     1|                 Angola|   AO|                 AGO|   31825299|      Africa|                                                3.44065896|\n",
      "|09/12/2020|  9|   12|2020|    1|     0|               Anguilla|   AI|                 AIA|      14872|     America|                                               40.34427111|\n",
      "|09/12/2020|  9|   12|2020|    0|     0|    Antigua_and_Barbuda|   AG|                 ATG|      97115|     America|                                                6.17824229|\n",
      "|09/12/2020|  9|   12|2020| 3610|   121|              Argentina|   AR|                 ARG|   44780675|     America|                                              196.81927528|\n",
      "|09/12/2020|  9|   12|2020| 1138|    21|                Armenia|   AM|                 ARM|    2957728|      Europe|                                              506.50364063|\n",
      "|09/12/2020|  9|   12|2020|   18|     0|                  Aruba|   AW|                 ABW|     106310|     America|                                              219.17035086|\n",
      "|09/12/2020|  9|   12|2020|   15|     0|              Australia|   AU|                 AUS|   25203200|     Oceania|                                                0.55151727|\n",
      "|09/12/2020|  9|   12|2020| 2531|    80|                Austria|   AT|                 AUT|    8858775|      Europe|                                              590.81532153|\n",
      "|09/12/2020|  9|   12|2020| 4387|    38|             Azerbaijan|   AZ|                 AZE|   10047719|      Europe|                                               549.6272338|\n",
      "|09/12/2020|  9|   12|2020|    0|     0|                Bahamas|   BS|                 BHS|     389486|     America|                                                42.6202739|\n",
      "|09/12/2020|  9|   12|2020|  183|     3|                Bahrain|   BH|                 BHR|    1641164|        Asia|                                              138.80392209|\n",
      "|09/12/2020|  9|   12|2020| 2202|    32|             Bangladesh|   BD|                 BGD|  163046173|        Asia|                                               18.37209635|\n",
      "|09/12/2020|  9|   12|2020|    1|     0|               Barbados|   BB|                 BRB|     287021|     America|                                                9.75538375|\n",
      "|09/12/2020|  9|   12|2020| 1649|     7|                Belarus|   BY|                 BLR|    9452409|      Europe|                                              250.19018961|\n",
      "|09/12/2020|  9|   12|2020|    3|    10|                Belgium|   BE|                 BEL|   11455519|      Europe|                                               251.6079804|\n",
      "|09/12/2020|  9|   12|2020|   60|     3|                 Belize|   BZ|                 BLZ|     390351|     America|                                              686.04922237|\n",
      "+----------+---+-----+----+-----+------+-----------------------+-----+--------------------+-----------+------------+----------------------------------------------------------+\n",
      "only showing top 20 rows\n",
      "\n"
     ]
    }
   ],
   "source": [
    "today_df = df.filter(df['day'] == day).filter(df['month'] == month).filter(df['year'] == year)\n",
    "today_df.show()"
   ]
  },
  {
   "cell_type": "code",
   "execution_count": 5,
   "metadata": {},
   "outputs": [],
   "source": [
    "columns_to_remove = [\"day\", \"month\", \"year\", \"geoId\", \"countryterritoryCode\"]\n",
    "today_df = today_df.drop(*columns_to_remove)"
   ]
  },
  {
   "cell_type": "code",
   "execution_count": 6,
   "metadata": {},
   "outputs": [
    {
     "name": "stdout",
     "output_type": "stream",
     "text": [
      "+----------+-----+------+-----------------------+-----------+------------+----------------------------------------------------------+\n",
      "|   dateRep|cases|deaths|countriesAndTerritories|popData2019|continentExp|Cumulative_number_for_14_days_of_COVID-19_cases_per_100000|\n",
      "+----------+-----+------+-----------------------+-----------+------------+----------------------------------------------------------+\n",
      "|09/12/2020|  135|    13|            Afghanistan|   38041757|        Asia|                                                6.96340077|\n",
      "|09/12/2020|  753|    14|                Albania|    2862427|      Europe|                                              354.10510032|\n",
      "|09/12/2020|  591|    12|                Algeria|   43053054|      Africa|                                               28.83883685|\n",
      "|09/12/2020|   43|     0|                Andorra|      76177|      Europe|                                             1018.68017906|\n",
      "|09/12/2020|   81|     1|                 Angola|   31825299|      Africa|                                                3.44065896|\n",
      "|09/12/2020|    1|     0|               Anguilla|      14872|     America|                                               40.34427111|\n",
      "|09/12/2020|    0|     0|    Antigua_and_Barbuda|      97115|     America|                                                6.17824229|\n",
      "|09/12/2020| 3610|   121|              Argentina|   44780675|     America|                                              196.81927528|\n",
      "|09/12/2020| 1138|    21|                Armenia|    2957728|      Europe|                                              506.50364063|\n",
      "|09/12/2020|   18|     0|                  Aruba|     106310|     America|                                              219.17035086|\n",
      "|09/12/2020|   15|     0|              Australia|   25203200|     Oceania|                                                0.55151727|\n",
      "|09/12/2020| 2531|    80|                Austria|    8858775|      Europe|                                              590.81532153|\n",
      "|09/12/2020| 4387|    38|             Azerbaijan|   10047719|      Europe|                                               549.6272338|\n",
      "|09/12/2020|    0|     0|                Bahamas|     389486|     America|                                                42.6202739|\n",
      "|09/12/2020|  183|     3|                Bahrain|    1641164|        Asia|                                              138.80392209|\n",
      "|09/12/2020| 2202|    32|             Bangladesh|  163046173|        Asia|                                               18.37209635|\n",
      "|09/12/2020|    1|     0|               Barbados|     287021|     America|                                                9.75538375|\n",
      "|09/12/2020| 1649|     7|                Belarus|    9452409|      Europe|                                              250.19018961|\n",
      "|09/12/2020|    3|    10|                Belgium|   11455519|      Europe|                                               251.6079804|\n",
      "|09/12/2020|   60|     3|                 Belize|     390351|     America|                                              686.04922237|\n",
      "+----------+-----+------+-----------------------+-----------+------------+----------------------------------------------------------+\n",
      "only showing top 20 rows\n",
      "\n"
     ]
    }
   ],
   "source": [
    "today_df.show()"
   ]
  },
  {
   "cell_type": "code",
   "execution_count": 8,
   "metadata": {},
   "outputs": [],
   "source": [
    "today_df = today_df.withColumn('death_per_million', ceil((today_df.deaths / today_df.popData2019)*1000000))\n",
    "today_df = today_df.withColumn('death_rate', (today_df.deaths / today_df.cases))"
   ]
  },
  {
   "cell_type": "code",
   "execution_count": 9,
   "metadata": {},
   "outputs": [
    {
     "name": "stdout",
     "output_type": "stream",
     "text": [
      "+----------+-----+------+-----------------------+-----------+------------+----------------------------------------------------------+-----------------+--------------------+\n",
      "|   dateRep|cases|deaths|countriesAndTerritories|popData2019|continentExp|Cumulative_number_for_14_days_of_COVID-19_cases_per_100000|death_per_million|          death_rate|\n",
      "+----------+-----+------+-----------------------+-----------+------------+----------------------------------------------------------+-----------------+--------------------+\n",
      "|09/12/2020|  135|    13|            Afghanistan|   38041757|        Asia|                                                6.96340077|                1|  0.0962962962962963|\n",
      "|09/12/2020|  753|    14|                Albania|    2862427|      Europe|                                              354.10510032|                5| 0.01859229747675963|\n",
      "|09/12/2020|  591|    12|                Algeria|   43053054|      Africa|                                               28.83883685|                1| 0.02030456852791878|\n",
      "|09/12/2020|   43|     0|                Andorra|      76177|      Europe|                                             1018.68017906|                0|                 0.0|\n",
      "|09/12/2020|   81|     1|                 Angola|   31825299|      Africa|                                                3.44065896|                1|0.012345679012345678|\n",
      "|09/12/2020|    1|     0|               Anguilla|      14872|     America|                                               40.34427111|                0|                 0.0|\n",
      "|09/12/2020|    0|     0|    Antigua_and_Barbuda|      97115|     America|                                                6.17824229|                0|                null|\n",
      "|09/12/2020| 3610|   121|              Argentina|   44780675|     America|                                              196.81927528|                3| 0.03351800554016621|\n",
      "|09/12/2020| 1138|    21|                Armenia|    2957728|      Europe|                                              506.50364063|                8| 0.01845342706502636|\n",
      "|09/12/2020|   18|     0|                  Aruba|     106310|     America|                                              219.17035086|                0|                 0.0|\n",
      "|09/12/2020|   15|     0|              Australia|   25203200|     Oceania|                                                0.55151727|                0|                 0.0|\n",
      "|09/12/2020| 2531|    80|                Austria|    8858775|      Europe|                                              590.81532153|               10| 0.03160806005531411|\n",
      "|09/12/2020| 4387|    38|             Azerbaijan|   10047719|      Europe|                                               549.6272338|                4|0.008661955778436288|\n",
      "|09/12/2020|    0|     0|                Bahamas|     389486|     America|                                                42.6202739|                0|                null|\n",
      "|09/12/2020|  183|     3|                Bahrain|    1641164|        Asia|                                              138.80392209|                2| 0.01639344262295082|\n",
      "|09/12/2020| 2202|    32|             Bangladesh|  163046173|        Asia|                                               18.37209635|                1|0.014532243415077202|\n",
      "|09/12/2020|    1|     0|               Barbados|     287021|     America|                                                9.75538375|                0|                 0.0|\n",
      "|09/12/2020| 1649|     7|                Belarus|    9452409|      Europe|                                              250.19018961|                1|0.004244996967859308|\n",
      "|09/12/2020|    3|    10|                Belgium|   11455519|      Europe|                                               251.6079804|                1|  3.3333333333333335|\n",
      "|09/12/2020|   60|     3|                 Belize|     390351|     America|                                              686.04922237|                8|                0.05|\n",
      "+----------+-----+------+-----------------------+-----------+------------+----------------------------------------------------------+-----------------+--------------------+\n",
      "only showing top 20 rows\n",
      "\n"
     ]
    }
   ],
   "source": [
    "today_df.show()"
   ]
  },
  {
   "cell_type": "code",
   "execution_count": 11,
   "metadata": {},
   "outputs": [
    {
     "name": "stdout",
     "output_type": "stream",
     "text": [
      "+----------+-----+------+-----------------------+-----------+------------+----------------------------------------------------------+-----------------+--------------------+\n",
      "|   dateRep|cases|deaths|countriesAndTerritories|popData2019|continentExp|Cumulative_number_for_14_days_of_COVID-19_cases_per_100000|death_per_million|          death_rate|\n",
      "+----------+-----+------+-----------------------+-----------+------------+----------------------------------------------------------+-----------------+--------------------+\n",
      "|09/12/2020|13713|   831|                 France|   67012883|      Europe|                                              232.50156242|               13|0.060599431196674686|\n",
      "+----------+-----+------+-----------------------+-----------+------------+----------------------------------------------------------+-----------------+--------------------+\n",
      "\n"
     ]
    }
   ],
   "source": [
    "today_df[df.countriesAndTerritories==\"France\"].show()"
   ]
  },
  {
   "cell_type": "code",
   "execution_count": null,
   "metadata": {},
   "outputs": [],
   "source": [
    "# A faire : Lancé ce programme avec Airflow, tous les jours à 23h59 avec les paramètres day, month & year adequats\n",
    "# Le programme récupère la data depuis open data pour le jour actuel et effectue le pré-processing nécessaire\n",
    "# /!\\ A faire : Poster via l'API ELK le dataset today_df de façon à pouvoir l'indexé là-bas\n",
    "# A faire : Faire un dashboard de reporting sur Kibana de la situation du jour\n",
    "\n",
    "# Potentiel : Rajouter des pre processing sur à Spark\n",
    "\n",
    "# (OpenData => Dockerised Spark => ELK) scheduler par Airflow"
   ]
  }
 ],
 "metadata": {
  "kernelspec": {
   "display_name": "Python 3",
   "language": "python",
   "name": "python3"
  },
  "language_info": {
   "codemirror_mode": {
    "name": "ipython",
    "version": 3
   },
   "file_extension": ".py",
   "mimetype": "text/x-python",
   "name": "python",
   "nbconvert_exporter": "python",
   "pygments_lexer": "ipython3",
   "version": "3.8.6"
  }
 },
 "nbformat": 4,
 "nbformat_minor": 4
}
